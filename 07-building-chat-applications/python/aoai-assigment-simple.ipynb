{
 "cells": [
  {
   "cell_type": "code",
   "execution_count": null,
   "metadata": {},
   "outputs": [],
   "source": [
    "from openai import AzureOpenAI\n",
    "import dotenv\n",
    "import os\n",
    "\n",
    "dotenv.load_dotenv()\n",
    "\n",
    "API_KEY = os.getenv(\"AZURE_OPENAI_API_KEY\",\"\").strip()\n",
    "assert API_KEY, \"ERROR: Azure OpenAI Key is missing\"\n",
    "\n",
    "deployment = os.getenv(\"AZURE_OPENAI_DEPLOYMENT\",\"\").strip()\n",
    "assert deployment, \"ERROR: Azure OpenAI Deployment is missing\"\n",
    "\n",
    "client = AzureOpenAI(\n",
    "    api_key = API_KEY,\n",
    "    api_version = \"2023-05-15\"\n",
    "  )\n"
   ]
  },
  {
   "cell_type": "code",
   "execution_count": null,
   "metadata": {},
   "outputs": [],
   "source": [
    "# Create your first prompt\n",
    "text_prompt = \" My foot hurts, what can be wrong?\"\n",
    "\n",
    "# Define a list of messages\n",
    "messages = [\n",
    "  {\"role\": \"system\", \"content\": \"I'm a doctor, specialist on surgery\"},\n",
    "  {\"role\": \"user\", \"content\": text_prompt},\n",
    "]\n",
    "\n",
    "# Create a chat completion using the AzureOpenAI client\n",
    "completion = client.chat.completions.create(model=deployment, messages=messages)\n",
    "\n",
    "# Print the response from the chat completion\n",
    "print(f'\\n ######### \\n {completion.choices[0].message.content} \\n ######### \\n')"
   ]
  }
 ],
 "metadata": {
  "kernelspec": {
   "display_name": "Python 3",
   "language": "python",
   "name": "python3"
  },
  "language_info": {
   "codemirror_mode": {
    "name": "ipython",
    "version": 3
   },
   "file_extension": ".py",
   "mimetype": "text/x-python",
   "name": "python",
   "nbconvert_exporter": "python",
   "pygments_lexer": "ipython3",
   "version": "3.10.13"
  },
  "orig_nbformat": 4
 },
 "nbformat": 4,
 "nbformat_minor": 2
}
